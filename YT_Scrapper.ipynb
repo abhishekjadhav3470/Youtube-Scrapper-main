{
 "cells": [
  {
   "cell_type": "code",
   "execution_count": 1,
   "id": "1d4b9be6",
   "metadata": {},
   "outputs": [],
   "source": [
    "from flask import Flask, render_template, request, jsonify\n",
    "from flask_cors import CORS,cross_origin\n",
    "import logging\n",
    "import os\n",
    "import requests\n",
    "import re\n",
    "import pandas as pd\n",
    "\n",
    "\n"
   ]
  },
  {
   "cell_type": "code",
   "execution_count": 2,
   "id": "1de8ed56",
   "metadata": {},
   "outputs": [
    {
     "name": "stdout",
     "output_type": "stream",
     "text": [
      "200\n"
     ]
    }
   ],
   "source": [
    "input_text = 'Telusko'\n",
    "url = f'https://www.youtube.com/@{input_text}/videos'\n",
    "\n",
    "headers = {\"User-Agent\": \"Mozilla/5.0 (Windows NT 10.0; Win64; x64) AppleWebKit/537.36 (KHTML, like Gecko) Chrome/58.0.3029.110 Safari/537.36\"}\n",
    "response = requests.get(url, headers=headers)\n",
    "print(response.status_code)\n",
    "response_text = response.text\n"
   ]
  },
  {
   "cell_type": "code",
   "execution_count": 3,
   "id": "9d50612d",
   "metadata": {},
   "outputs": [],
   "source": [
    "vid_titles = re.findall('\"title\":{\"runs\":\\[{\"text\":\".*?\"', response_text)"
   ]
  },
  {
   "cell_type": "code",
   "execution_count": 4,
   "id": "4df1efab",
   "metadata": {},
   "outputs": [
    {
     "data": {
      "text/plain": [
       "['\"title\":{\"runs\":[{\"text\":\"AI Pair Programmer is real | Github Copilot\"',\n",
       " '\"title\":{\"runs\":[{\"text\":\"JUnit 5 Tutorial by Hyder Abbas\"',\n",
       " '\"title\":{\"runs\":[{\"text\":\"Data Structures and Algorithms using Java\"',\n",
       " '\"title\":{\"runs\":[{\"text\":\"Tree Implementation in Java | DSA\"',\n",
       " '\"title\":{\"runs\":[{\"text\":\"Merge Sort Code | DSA\"',\n",
       " '\"title\":{\"runs\":[{\"text\":\"Merge Sort Theory | DSA\"',\n",
       " '\"title\":{\"runs\":[{\"text\":\"Complete java developer Course Launch\"',\n",
       " '\"title\":{\"runs\":[{\"text\":\"Quick Sort Code | DSA\"',\n",
       " '\"title\":{\"runs\":[{\"text\":\"Quick Sort Theory | DSA\"',\n",
       " '\"title\":{\"runs\":[{\"text\":\"Insertion Sort Code | DSA\"',\n",
       " '\"title\":{\"runs\":[{\"text\":\"Spring Boot and Spring Framework - Live Course\"',\n",
       " '\"title\":{\"runs\":[{\"text\":\"Insertion Sort | DSA\"',\n",
       " '\"title\":{\"runs\":[{\"text\":\"Selection Sort Code in Java | DSA\"',\n",
       " '\"title\":{\"runs\":[{\"text\":\"Selection Sort Theory in Java | DSA\"',\n",
       " '\"title\":{\"runs\":[{\"text\":\"Bubble Sort Code in Java | DSA\"',\n",
       " '\"title\":{\"runs\":[{\"text\":\"Bubble Sort Theory | DSA\"',\n",
       " '\"title\":{\"runs\":[{\"text\":\"Java 21 is Here\"',\n",
       " '\"title\":{\"runs\":[{\"text\":\"Java Database Connectivity | JDBC\"',\n",
       " '\"title\":{\"runs\":[{\"text\":\"Java Marathon Announcement | Saturday\"',\n",
       " '\"title\":{\"runs\":[{\"text\":\"Teachers Day Offer, Java Spring\"',\n",
       " '\"title\":{\"runs\":[{\"text\":\"Git For Beginners 2023\"',\n",
       " '\"title\":{\"runs\":[{\"text\":\"Industry Ready Java Spring Developer- Live Course\"',\n",
       " '\"title\":{\"runs\":[{\"text\":\"Best Programming Monitor?  Eye-Care Programming Monitor | Benq GW2790QT\"',\n",
       " '\"title\":{\"runs\":[{\"text\":\"Big O Notation | Python | Linear \\\\u0026 Binary Search Code\"',\n",
       " '\"title\":{\"runs\":[{\"text\":\"History of Git\"',\n",
       " '\"title\":{\"runs\":[{\"text\":\"Linear \\\\u0026 Binary Search Code | Big O Notation\"',\n",
       " '\"title\":{\"runs\":[{\"text\":\"Big O Notation, Time Complexity | DSA\"',\n",
       " '\"title\":{\"runs\":[{\"text\":\"Array Data Structure\"',\n",
       " '\"title\":{\"runs\":[{\"text\":\"Abstract Data Types | DSA\"',\n",
       " '\"title\":{\"runs\":[{\"text\":\"Want to join this channel?\"',\n",
       " '\"title\":{\"runs\":[{\"text\":\"Keyboard shortcuts\"',\n",
       " '\"title\":{\"runs\":[{\"text\":\"Playback\"',\n",
       " '\"title\":{\"runs\":[{\"text\":\"General\"',\n",
       " '\"title\":{\"runs\":[{\"text\":\"Subtitles and closed captions\"',\n",
       " '\"title\":{\"runs\":[{\"text\":\"Spherical videos\"']"
      ]
     },
     "execution_count": 4,
     "metadata": {},
     "output_type": "execute_result"
    }
   ],
   "source": [
    "vid_titles"
   ]
  },
  {
   "cell_type": "code",
   "execution_count": 5,
   "id": "0693f8d2",
   "metadata": {},
   "outputs": [],
   "source": [
    "vid_thumbnails = re.findall(r\"https://i.ytimg.com/vi/[A-Za-z0-9_-]{11}/[A-Za-z0-9_]{9}.jpg\", response_text)"
   ]
  },
  {
   "cell_type": "code",
   "execution_count": 6,
   "id": "a940a927",
   "metadata": {},
   "outputs": [
    {
     "data": {
      "text/plain": [
       "['https://i.ytimg.com/vi/FBkj-4lzEnU/hqdefault.jpg',\n",
       " 'https://i.ytimg.com/vi/FBkj-4lzEnU/hqdefault.jpg',\n",
       " 'https://i.ytimg.com/vi/FBkj-4lzEnU/hqdefault.jpg',\n",
       " 'https://i.ytimg.com/vi/FBkj-4lzEnU/hqdefault.jpg',\n",
       " 'https://i.ytimg.com/vi/laPmEW913_k/hqdefault.jpg',\n",
       " 'https://i.ytimg.com/vi/laPmEW913_k/hqdefault.jpg',\n",
       " 'https://i.ytimg.com/vi/laPmEW913_k/hqdefault.jpg',\n",
       " 'https://i.ytimg.com/vi/laPmEW913_k/hqdefault.jpg',\n",
       " 'https://i.ytimg.com/vi/xWLxhF3b5P8/hqdefault.jpg',\n",
       " 'https://i.ytimg.com/vi/xWLxhF3b5P8/hqdefault.jpg',\n",
       " 'https://i.ytimg.com/vi/xWLxhF3b5P8/hqdefault.jpg',\n",
       " 'https://i.ytimg.com/vi/xWLxhF3b5P8/hqdefault.jpg',\n",
       " 'https://i.ytimg.com/vi/pJf1iVGTmxQ/hqdefault.jpg',\n",
       " 'https://i.ytimg.com/vi/pJf1iVGTmxQ/hqdefault.jpg',\n",
       " 'https://i.ytimg.com/vi/pJf1iVGTmxQ/hqdefault.jpg',\n",
       " 'https://i.ytimg.com/vi/pJf1iVGTmxQ/hqdefault.jpg',\n",
       " 'https://i.ytimg.com/vi/SHqvb69Qy70/hqdefault.jpg',\n",
       " 'https://i.ytimg.com/vi/SHqvb69Qy70/hqdefault.jpg',\n",
       " 'https://i.ytimg.com/vi/SHqvb69Qy70/hqdefault.jpg',\n",
       " 'https://i.ytimg.com/vi/SHqvb69Qy70/hqdefault.jpg',\n",
       " 'https://i.ytimg.com/vi/hPzlKHFc3Y4/hqdefault.jpg',\n",
       " 'https://i.ytimg.com/vi/hPzlKHFc3Y4/hqdefault.jpg',\n",
       " 'https://i.ytimg.com/vi/hPzlKHFc3Y4/hqdefault.jpg',\n",
       " 'https://i.ytimg.com/vi/hPzlKHFc3Y4/hqdefault.jpg',\n",
       " 'https://i.ytimg.com/vi/8JfJLhbWNbQ/hqdefault.jpg',\n",
       " 'https://i.ytimg.com/vi/8JfJLhbWNbQ/hqdefault.jpg',\n",
       " 'https://i.ytimg.com/vi/8JfJLhbWNbQ/hqdefault.jpg',\n",
       " 'https://i.ytimg.com/vi/8JfJLhbWNbQ/hqdefault.jpg',\n",
       " 'https://i.ytimg.com/vi/_C-ARJemnC0/hqdefault.jpg',\n",
       " 'https://i.ytimg.com/vi/_C-ARJemnC0/hqdefault.jpg',\n",
       " 'https://i.ytimg.com/vi/_C-ARJemnC0/hqdefault.jpg',\n",
       " 'https://i.ytimg.com/vi/_C-ARJemnC0/hqdefault.jpg',\n",
       " 'https://i.ytimg.com/vi/VNrF8ugTUkI/hqdefault.jpg',\n",
       " 'https://i.ytimg.com/vi/VNrF8ugTUkI/hqdefault.jpg',\n",
       " 'https://i.ytimg.com/vi/VNrF8ugTUkI/hqdefault.jpg',\n",
       " 'https://i.ytimg.com/vi/VNrF8ugTUkI/hqdefault.jpg',\n",
       " 'https://i.ytimg.com/vi/rrfRRllt4c4/hqdefault.jpg',\n",
       " 'https://i.ytimg.com/vi/rrfRRllt4c4/hqdefault.jpg',\n",
       " 'https://i.ytimg.com/vi/rrfRRllt4c4/hqdefault.jpg',\n",
       " 'https://i.ytimg.com/vi/rrfRRllt4c4/hqdefault.jpg',\n",
       " 'https://i.ytimg.com/vi/nZ-9wheuWME/hqdefault.jpg',\n",
       " 'https://i.ytimg.com/vi/nZ-9wheuWME/hqdefault.jpg',\n",
       " 'https://i.ytimg.com/vi/nZ-9wheuWME/hqdefault.jpg',\n",
       " 'https://i.ytimg.com/vi/nZ-9wheuWME/hqdefault.jpg',\n",
       " 'https://i.ytimg.com/vi/OX9kLcVIuxs/hqdefault.jpg',\n",
       " 'https://i.ytimg.com/vi/OX9kLcVIuxs/hqdefault.jpg',\n",
       " 'https://i.ytimg.com/vi/OX9kLcVIuxs/hqdefault.jpg',\n",
       " 'https://i.ytimg.com/vi/OX9kLcVIuxs/hqdefault.jpg',\n",
       " 'https://i.ytimg.com/vi/-jCFJKQCWg8/hqdefault.jpg',\n",
       " 'https://i.ytimg.com/vi/-jCFJKQCWg8/hqdefault.jpg',\n",
       " 'https://i.ytimg.com/vi/-jCFJKQCWg8/hqdefault.jpg',\n",
       " 'https://i.ytimg.com/vi/-jCFJKQCWg8/hqdefault.jpg',\n",
       " 'https://i.ytimg.com/vi/nBUfLL4HgIo/hqdefault.jpg',\n",
       " 'https://i.ytimg.com/vi/nBUfLL4HgIo/hqdefault.jpg',\n",
       " 'https://i.ytimg.com/vi/nBUfLL4HgIo/hqdefault.jpg',\n",
       " 'https://i.ytimg.com/vi/nBUfLL4HgIo/hqdefault.jpg',\n",
       " 'https://i.ytimg.com/vi/OUKBP64yZyk/hqdefault.jpg',\n",
       " 'https://i.ytimg.com/vi/OUKBP64yZyk/hqdefault.jpg',\n",
       " 'https://i.ytimg.com/vi/OUKBP64yZyk/hqdefault.jpg',\n",
       " 'https://i.ytimg.com/vi/OUKBP64yZyk/hqdefault.jpg',\n",
       " 'https://i.ytimg.com/vi/Nw2x0dGXBYw/hqdefault.jpg',\n",
       " 'https://i.ytimg.com/vi/Nw2x0dGXBYw/hqdefault.jpg',\n",
       " 'https://i.ytimg.com/vi/Nw2x0dGXBYw/hqdefault.jpg',\n",
       " 'https://i.ytimg.com/vi/Nw2x0dGXBYw/hqdefault.jpg',\n",
       " 'https://i.ytimg.com/vi/39FA26nKlOw/hqdefault.jpg',\n",
       " 'https://i.ytimg.com/vi/39FA26nKlOw/hqdefault.jpg',\n",
       " 'https://i.ytimg.com/vi/39FA26nKlOw/hqdefault.jpg',\n",
       " 'https://i.ytimg.com/vi/39FA26nKlOw/hqdefault.jpg',\n",
       " 'https://i.ytimg.com/vi/7v2OnUti2eM/hqdefault.jpg',\n",
       " 'https://i.ytimg.com/vi/7v2OnUti2eM/hqdefault.jpg',\n",
       " 'https://i.ytimg.com/vi/7v2OnUti2eM/hqdefault.jpg',\n",
       " 'https://i.ytimg.com/vi/7v2OnUti2eM/hqdefault.jpg',\n",
       " 'https://i.ytimg.com/vi/e0Sb38Am3mc/hqdefault.jpg',\n",
       " 'https://i.ytimg.com/vi/e0Sb38Am3mc/hqdefault.jpg',\n",
       " 'https://i.ytimg.com/vi/e0Sb38Am3mc/hqdefault.jpg',\n",
       " 'https://i.ytimg.com/vi/e0Sb38Am3mc/hqdefault.jpg',\n",
       " 'https://i.ytimg.com/vi/XIS0ZGC2v4o/hqdefault.jpg',\n",
       " 'https://i.ytimg.com/vi/XIS0ZGC2v4o/hqdefault.jpg',\n",
       " 'https://i.ytimg.com/vi/XIS0ZGC2v4o/hqdefault.jpg',\n",
       " 'https://i.ytimg.com/vi/XIS0ZGC2v4o/hqdefault.jpg',\n",
       " 'https://i.ytimg.com/vi/vwj89i2FmG0/hqdefault.jpg',\n",
       " 'https://i.ytimg.com/vi/vwj89i2FmG0/hqdefault.jpg',\n",
       " 'https://i.ytimg.com/vi/vwj89i2FmG0/hqdefault.jpg',\n",
       " 'https://i.ytimg.com/vi/vwj89i2FmG0/hqdefault.jpg',\n",
       " 'https://i.ytimg.com/vi/ubRScB--lTo/hqdefault.jpg',\n",
       " 'https://i.ytimg.com/vi/ubRScB--lTo/hqdefault.jpg',\n",
       " 'https://i.ytimg.com/vi/ubRScB--lTo/hqdefault.jpg',\n",
       " 'https://i.ytimg.com/vi/ubRScB--lTo/hqdefault.jpg',\n",
       " 'https://i.ytimg.com/vi/g__PM_ndpB4/hqdefault.jpg',\n",
       " 'https://i.ytimg.com/vi/g__PM_ndpB4/hqdefault.jpg',\n",
       " 'https://i.ytimg.com/vi/g__PM_ndpB4/hqdefault.jpg',\n",
       " 'https://i.ytimg.com/vi/g__PM_ndpB4/hqdefault.jpg',\n",
       " 'https://i.ytimg.com/vi/DlOIH71_I0s/hqdefault.jpg',\n",
       " 'https://i.ytimg.com/vi/DlOIH71_I0s/hqdefault.jpg',\n",
       " 'https://i.ytimg.com/vi/DlOIH71_I0s/hqdefault.jpg',\n",
       " 'https://i.ytimg.com/vi/DlOIH71_I0s/hqdefault.jpg',\n",
       " 'https://i.ytimg.com/vi/Mw1gxFFydrg/hqdefault.jpg',\n",
       " 'https://i.ytimg.com/vi/Mw1gxFFydrg/hqdefault.jpg',\n",
       " 'https://i.ytimg.com/vi/Mw1gxFFydrg/hqdefault.jpg',\n",
       " 'https://i.ytimg.com/vi/Mw1gxFFydrg/hqdefault.jpg',\n",
       " 'https://i.ytimg.com/vi/5h_wcuRl7kE/hqdefault.jpg',\n",
       " 'https://i.ytimg.com/vi/5h_wcuRl7kE/hqdefault.jpg',\n",
       " 'https://i.ytimg.com/vi/5h_wcuRl7kE/hqdefault.jpg',\n",
       " 'https://i.ytimg.com/vi/5h_wcuRl7kE/hqdefault.jpg',\n",
       " 'https://i.ytimg.com/vi/jUy5N-3RAjo/hqdefault.jpg',\n",
       " 'https://i.ytimg.com/vi/jUy5N-3RAjo/hqdefault.jpg',\n",
       " 'https://i.ytimg.com/vi/jUy5N-3RAjo/hqdefault.jpg',\n",
       " 'https://i.ytimg.com/vi/jUy5N-3RAjo/hqdefault.jpg',\n",
       " 'https://i.ytimg.com/vi/0OK-kbu9Cwo/hqdefault.jpg',\n",
       " 'https://i.ytimg.com/vi/0OK-kbu9Cwo/hqdefault.jpg',\n",
       " 'https://i.ytimg.com/vi/0OK-kbu9Cwo/hqdefault.jpg',\n",
       " 'https://i.ytimg.com/vi/0OK-kbu9Cwo/hqdefault.jpg',\n",
       " 'https://i.ytimg.com/vi/wy0TPi9M7VM/hqdefault.jpg',\n",
       " 'https://i.ytimg.com/vi/wy0TPi9M7VM/hqdefault.jpg',\n",
       " 'https://i.ytimg.com/vi/wy0TPi9M7VM/hqdefault.jpg',\n",
       " 'https://i.ytimg.com/vi/wy0TPi9M7VM/hqdefault.jpg']"
      ]
     },
     "execution_count": 6,
     "metadata": {},
     "output_type": "execute_result"
    }
   ],
   "source": [
    "vid_thumbnails"
   ]
  },
  {
   "cell_type": "code",
   "execution_count": 7,
   "id": "b7c64566",
   "metadata": {},
   "outputs": [],
   "source": [
    "vid_links = re.findall(r\"watch\\?v=[A-Za-z0-9_-]{11}\", response_text)"
   ]
  },
  {
   "cell_type": "code",
   "execution_count": 8,
   "id": "91d94bc1",
   "metadata": {},
   "outputs": [
    {
     "data": {
      "text/plain": [
       "['watch?v=FBkj-4lzEnU',\n",
       " 'watch?v=laPmEW913_k',\n",
       " 'watch?v=xWLxhF3b5P8',\n",
       " 'watch?v=pJf1iVGTmxQ',\n",
       " 'watch?v=SHqvb69Qy70',\n",
       " 'watch?v=hPzlKHFc3Y4',\n",
       " 'watch?v=8JfJLhbWNbQ',\n",
       " 'watch?v=_C-ARJemnC0',\n",
       " 'watch?v=VNrF8ugTUkI',\n",
       " 'watch?v=rrfRRllt4c4',\n",
       " 'watch?v=nZ-9wheuWME',\n",
       " 'watch?v=OX9kLcVIuxs',\n",
       " 'watch?v=-jCFJKQCWg8',\n",
       " 'watch?v=nBUfLL4HgIo',\n",
       " 'watch?v=OUKBP64yZyk',\n",
       " 'watch?v=Nw2x0dGXBYw',\n",
       " 'watch?v=39FA26nKlOw',\n",
       " 'watch?v=7v2OnUti2eM',\n",
       " 'watch?v=e0Sb38Am3mc',\n",
       " 'watch?v=XIS0ZGC2v4o',\n",
       " 'watch?v=vwj89i2FmG0',\n",
       " 'watch?v=ubRScB--lTo',\n",
       " 'watch?v=g__PM_ndpB4',\n",
       " 'watch?v=DlOIH71_I0s',\n",
       " 'watch?v=Mw1gxFFydrg',\n",
       " 'watch?v=5h_wcuRl7kE',\n",
       " 'watch?v=jUy5N-3RAjo',\n",
       " 'watch?v=0OK-kbu9Cwo',\n",
       " 'watch?v=wy0TPi9M7VM']"
      ]
     },
     "execution_count": 8,
     "metadata": {},
     "output_type": "execute_result"
    }
   ],
   "source": [
    "vid_links"
   ]
  },
  {
   "cell_type": "code",
   "execution_count": 9,
   "id": "c696f603",
   "metadata": {},
   "outputs": [],
   "source": [
    "pattern3 = re.compile(r\"[0-9]+(\\.[0-9]+)?[a-zA-Z]*K views\")  # view count"
   ]
  },
  {
   "cell_type": "code",
   "execution_count": 10,
   "id": "aa7f6773",
   "metadata": {},
   "outputs": [
    {
     "data": {
      "text/plain": [
       "re.compile(r'[0-9]+(\\.[0-9]+)?[a-zA-Z]*K views', re.UNICODE)"
      ]
     },
     "execution_count": 10,
     "metadata": {},
     "output_type": "execute_result"
    }
   ],
   "source": [
    "pattern3"
   ]
  },
  {
   "cell_type": "code",
   "execution_count": 11,
   "id": "f07f6955",
   "metadata": {},
   "outputs": [
    {
     "data": {
      "text/plain": [
       "re.compile(r'\\d+ (minutes|hours|hour|days|day|weeks|week|years|year) ago',\n",
       "           re.UNICODE)"
      ]
     },
     "execution_count": 11,
     "metadata": {},
     "output_type": "execute_result"
    }
   ],
   "source": [
    "pattern4 = re.compile(r\"\\d+ (minutes|hours|hour|days|day|weeks|week|years|year) ago\")  # vedio age\n",
    "pattern4"
   ]
  },
  {
   "cell_type": "code",
   "execution_count": 12,
   "id": "85ee6695",
   "metadata": {},
   "outputs": [],
   "source": [
    "matches1 = pattern3.finditer(response_text)\n",
    "matches2 = pattern4.finditer(response_text)"
   ]
  },
  {
   "cell_type": "code",
   "execution_count": 13,
   "id": "73785340",
   "metadata": {},
   "outputs": [],
   "source": [
    "vid_viewcounts=[]\n",
    "vid_ages=[]\n",
    "count = 0\n",
    "for match1,match2 in zip(matches1,matches2):\n",
    "    vid_ages.append(match2[0])\n",
    "    vid_viewcounts.append(match1[0])"
   ]
  },
  {
   "cell_type": "code",
   "execution_count": 19,
   "id": "6f23004e",
   "metadata": {},
   "outputs": [
    {
     "name": "stdout",
     "output_type": "stream",
     "text": [
      "Data has been saved to youtube_data.csv\n"
     ]
    }
   ],
   "source": [
    "import csv\n",
    "\n",
    "titles = vid_titles[0:10]\n",
    "thumbnails = list(dict.fromkeys(vid_thumbnails))\n",
    "links = vid_links[0:10]\n",
    "viewcounts = vid_viewcounts[0:20:2]\n",
    "ages = vid_ages[0:20:2]\n",
    "\n",
    "details_list = []\n",
    "\n",
    "for title, thumbnail, link, viewcount, age in zip(titles, thumbnails, links, viewcounts, ages):\n",
    "    details_dict = {\n",
    "        \"title\": title.split('\"')[-2],\n",
    "        \"thumbnail\": thumbnail,\n",
    "        \"link\": \"https://www.youtube.com/\" + link,\n",
    "        \"viewcount\": viewcount,\n",
    "        \"age\": age\n",
    "    }\n",
    "    details_list.append(details_dict)\n",
    "\n",
    "csv_file_name = \"youtube_data.csv\"\n",
    "\n",
    "with open(csv_file_name, 'w', newline='', encoding='utf-8') as csvfile:\n",
    "\n",
    "    fieldnames = [\"title\", \"thumbnail\", \"link\", \"viewcount\", \"age\"]\n",
    "\n",
    "    csv_writer = csv.DictWriter(csvfile, fieldnames=fieldnames)\n",
    "\n",
    "    csv_writer.writeheader()\n",
    "\n",
    "    csv_writer.writerows(details_list)\n",
    "\n",
    "print(f'Data has been saved to {csv_file_name}')\n"
   ]
  },
  {
   "cell_type": "code",
   "execution_count": null,
   "id": "33a04c60",
   "metadata": {},
   "outputs": [],
   "source": []
  },
  {
   "cell_type": "code",
   "execution_count": null,
   "id": "51b920d6",
   "metadata": {},
   "outputs": [],
   "source": []
  }
 ],
 "metadata": {
  "kernelspec": {
   "display_name": "Python 3 (ipykernel)",
   "language": "python",
   "name": "python3"
  },
  "language_info": {
   "codemirror_mode": {
    "name": "ipython",
    "version": 3
   },
   "file_extension": ".py",
   "mimetype": "text/x-python",
   "name": "python",
   "nbconvert_exporter": "python",
   "pygments_lexer": "ipython3",
   "version": "3.11.5"
  }
 },
 "nbformat": 4,
 "nbformat_minor": 5
}
